{
 "cells": [
  {
   "cell_type": "code",
   "execution_count": 13,
   "outputs": [],
   "source": [
    "import matplotlib.pyplot as plt\n",
    "from qiskit.visualization import plot_histogram\n",
    "from combinatorics_clause import CombinatoricsClause\n",
    "from generic_qaoa import *\n"
   ],
   "metadata": {
    "collapsed": false,
    "pycharm": {
     "name": "#%%\n"
    }
   }
  },
  {
   "cell_type": "markdown",
   "source": [],
   "metadata": {
    "collapsed": false
   }
  },
  {
   "cell_type": "code",
   "execution_count": 14,
   "metadata": {
    "pycharm": {
     "name": "#%%\n"
    }
   },
   "outputs": [
    {
     "name": "stderr",
     "output_type": "stream",
     "text": [
      "ibmqfactory.load_account:WARNING:2022-08-13 19:35:30,143: Credentials are already in use. The existing account in the session will be replaced.\n"
     ]
    },
    {
     "ename": "IBMQError",
     "evalue": "'Unable to find the least_busy backend from an empty list.'",
     "output_type": "error",
     "traceback": [
      "\u001B[0;31m---------------------------------------------------------------------------\u001B[0m",
      "\u001B[0;31mIBMQError\u001B[0m                                 Traceback (most recent call last)",
      "Input \u001B[0;32mIn [14]\u001B[0m, in \u001B[0;36m<cell line: 5>\u001B[0;34m()\u001B[0m\n\u001B[1;32m      1\u001B[0m get_ipython()\u001B[38;5;241m.\u001B[39mrun_line_magic(\u001B[38;5;124m'\u001B[39m\u001B[38;5;124mmatplotlib\u001B[39m\u001B[38;5;124m'\u001B[39m, \u001B[38;5;124m'\u001B[39m\u001B[38;5;124mwidget\u001B[39m\u001B[38;5;124m'\u001B[39m)\n\u001B[1;32m      2\u001B[0m clauses \u001B[38;5;241m=\u001B[39m [CombinatoricsClause([\u001B[38;5;241m0\u001B[39m], [\u001B[38;5;241m1\u001B[39m]), CombinatoricsClause([\u001B[38;5;241m1\u001B[39m], [\u001B[38;5;241m0\u001B[39m]), CombinatoricsClause([\u001B[38;5;241m2\u001B[39m], [\u001B[38;5;241m1\u001B[39m]), CombinatoricsClause([\u001B[38;5;241m1\u001B[39m], [\u001B[38;5;241m2\u001B[39m]),\n\u001B[1;32m      3\u001B[0m                CombinatoricsClause([\u001B[38;5;241m2\u001B[39m], [\u001B[38;5;241m3\u001B[39m]), CombinatoricsClause([\u001B[38;5;241m3\u001B[39m], [\u001B[38;5;241m2\u001B[39m]), CombinatoricsClause([\u001B[38;5;241m3\u001B[39m], [\u001B[38;5;241m0\u001B[39m]), CombinatoricsClause([\u001B[38;5;241m0\u001B[39m], [\u001B[38;5;241m3\u001B[39m])]\n\u001B[0;32m----> 5\u001B[0m qaoa \u001B[38;5;241m=\u001B[39m \u001B[43mGenericQaoa\u001B[49m\u001B[43m(\u001B[49m\u001B[43m_p\u001B[49m\u001B[38;5;241;43m=\u001B[39;49m\u001B[38;5;241;43m2\u001B[39;49m\u001B[43m,\u001B[49m\n\u001B[1;32m      6\u001B[0m \u001B[43m                   \u001B[49m\u001B[43m_clauses\u001B[49m\u001B[38;5;241;43m=\u001B[39;49m\u001B[43mclauses\u001B[49m\u001B[43m,\u001B[49m\n\u001B[1;32m      7\u001B[0m \u001B[43m                   \u001B[49m\u001B[43m_qbits\u001B[49m\u001B[38;5;241;43m=\u001B[39;49m\u001B[38;5;28;43mrange\u001B[39;49m\u001B[43m(\u001B[49m\u001B[38;5;241;43m4\u001B[39;49m\u001B[43m)\u001B[49m\u001B[43m,\u001B[49m\n\u001B[1;32m      8\u001B[0m \u001B[43m                   \u001B[49m\u001B[43m_grid_size\u001B[49m\u001B[38;5;241;43m=\u001B[39;49m\u001B[38;5;241;43m5\u001B[39;49m\u001B[43m,\u001B[49m\n\u001B[1;32m      9\u001B[0m \u001B[43m                   \u001B[49m\u001B[43m_simulate\u001B[49m\u001B[38;5;241;43m=\u001B[39;49m\u001B[38;5;28;43;01mFalse\u001B[39;49;00m\u001B[43m)\u001B[49m\n\u001B[1;32m     10\u001B[0m circ \u001B[38;5;241m=\u001B[39m qaoa\u001B[38;5;241m.\u001B[39mqaoa_circuit\n\u001B[1;32m     11\u001B[0m b \u001B[38;5;241m=\u001B[39m [np\u001B[38;5;241m.\u001B[39mpi\u001B[38;5;241m/\u001B[39m\u001B[38;5;241m2\u001B[39m, np\u001B[38;5;241m.\u001B[39mpi\u001B[38;5;241m/\u001B[39m\u001B[38;5;241m2\u001B[39m]\n",
      "File \u001B[0;32m~/HW/generic_qaoa/generic_qaoa.py:21\u001B[0m, in \u001B[0;36mGenericQaoa.__init__\u001B[0;34m(self, **qaoa_kwargs)\u001B[0m\n\u001B[1;32m     20\u001B[0m \u001B[38;5;28;01mdef\u001B[39;00m \u001B[38;5;21m__init__\u001B[39m(\u001B[38;5;28mself\u001B[39m, \u001B[38;5;241m*\u001B[39m\u001B[38;5;241m*\u001B[39mqaoa_kwargs):\n\u001B[0;32m---> 21\u001B[0m     \u001B[38;5;28mself\u001B[39m\u001B[38;5;241m.\u001B[39mqaoa_circuit_component \u001B[38;5;241m=\u001B[39m \u001B[43mQaoaCircuitComponent\u001B[49m\u001B[43m(\u001B[49m\u001B[38;5;241;43m*\u001B[39;49m\u001B[38;5;241;43m*\u001B[39;49m\u001B[43mqaoa_kwargs\u001B[49m\u001B[43m)\u001B[49m\n",
      "File \u001B[0;32m<string>:14\u001B[0m, in \u001B[0;36m__init__\u001B[0;34m(self, _p, _clauses, _qbits, _grid_size, _minimize_method, _simulate, _shots, _backend, _best_angles, _circuit, results)\u001B[0m\n",
      "File \u001B[0;32m~/HW/generic_qaoa/generic_qaoa.py:70\u001B[0m, in \u001B[0;36mQaoaCircuitComponent.__post_init__\u001B[0;34m(self)\u001B[0m\n\u001B[1;32m     65\u001B[0m     \u001B[38;5;28;01mfrom\u001B[39;00m \u001B[38;5;21;01mqiskit\u001B[39;00m\u001B[38;5;21;01m.\u001B[39;00m\u001B[38;5;21;01mproviders\u001B[39;00m\u001B[38;5;21;01m.\u001B[39;00m\u001B[38;5;21;01mibmq\u001B[39;00m \u001B[38;5;28;01mimport\u001B[39;00m least_busy\n\u001B[1;32m     67\u001B[0m     small_devices \u001B[38;5;241m=\u001B[39m provider\u001B[38;5;241m.\u001B[39mbackends(filters\u001B[38;5;241m=\u001B[39m\u001B[38;5;28;01mlambda\u001B[39;00m x: x\u001B[38;5;241m.\u001B[39mconfiguration()\u001B[38;5;241m.\u001B[39mn_qubits \u001B[38;5;241m==\u001B[39m \u001B[38;5;28mlen\u001B[39m(\u001B[38;5;28mself\u001B[39m\u001B[38;5;241m.\u001B[39m_qbits)\n\u001B[1;32m     68\u001B[0m                                                         \u001B[38;5;129;01mand\u001B[39;00m \u001B[38;5;129;01mnot\u001B[39;00m x\u001B[38;5;241m.\u001B[39mconfiguration()\u001B[38;5;241m.\u001B[39msimulator)\n\u001B[0;32m---> 70\u001B[0m     \u001B[38;5;28mself\u001B[39m\u001B[38;5;241m.\u001B[39m_backend \u001B[38;5;241m=\u001B[39m \u001B[43mleast_busy\u001B[49m\u001B[43m(\u001B[49m\u001B[43msmall_devices\u001B[49m\u001B[43m)\u001B[49m\n\u001B[1;32m     71\u001B[0m     \u001B[38;5;28mprint\u001B[39m(\u001B[38;5;124mf\u001B[39m\u001B[38;5;124m\"\u001B[39m\u001B[38;5;124mchosen backend=\u001B[39m\u001B[38;5;132;01m{\u001B[39;00m\u001B[38;5;28mself\u001B[39m\u001B[38;5;241m.\u001B[39m_backend\u001B[38;5;132;01m}\u001B[39;00m\u001B[38;5;124m\"\u001B[39m)\n\u001B[1;32m     72\u001B[0m \u001B[38;5;28mself\u001B[39m\u001B[38;5;241m.\u001B[39m_backend\u001B[38;5;241m.\u001B[39mshots \u001B[38;5;241m=\u001B[39m \u001B[38;5;28mself\u001B[39m\u001B[38;5;241m.\u001B[39m_shots\n",
      "File \u001B[0;32m~/HW/generic_qaoa/.venv/lib/python3.8/site-packages/qiskit/providers/ibmq/__init__.py:142\u001B[0m, in \u001B[0;36mleast_busy\u001B[0;34m(backends, reservation_lookahead)\u001B[0m\n\u001B[1;32m    120\u001B[0m \u001B[38;5;124;03m\"\"\"Return the least busy backend from a list.\u001B[39;00m\n\u001B[1;32m    121\u001B[0m \n\u001B[1;32m    122\u001B[0m \u001B[38;5;124;03mReturn the least busy available backend for those that\u001B[39;00m\n\u001B[0;32m   (...)\u001B[0m\n\u001B[1;32m    139\u001B[0m \u001B[38;5;124;03m        does not have the ``pending_jobs`` attribute in its status.\u001B[39;00m\n\u001B[1;32m    140\u001B[0m \u001B[38;5;124;03m\"\"\"\u001B[39;00m\n\u001B[1;32m    141\u001B[0m \u001B[38;5;28;01mif\u001B[39;00m \u001B[38;5;129;01mnot\u001B[39;00m backends:\n\u001B[0;32m--> 142\u001B[0m     \u001B[38;5;28;01mraise\u001B[39;00m IBMQError(\u001B[38;5;124m'\u001B[39m\u001B[38;5;124mUnable to find the least_busy \u001B[39m\u001B[38;5;124m'\u001B[39m\n\u001B[1;32m    143\u001B[0m                     \u001B[38;5;124m'\u001B[39m\u001B[38;5;124mbackend from an empty list.\u001B[39m\u001B[38;5;124m'\u001B[39m) \u001B[38;5;28;01mfrom\u001B[39;00m \u001B[38;5;28mNone\u001B[39m\n\u001B[1;32m    144\u001B[0m \u001B[38;5;28;01mtry\u001B[39;00m:\n\u001B[1;32m    145\u001B[0m     candidates \u001B[38;5;241m=\u001B[39m []\n",
      "\u001B[0;31mIBMQError\u001B[0m: 'Unable to find the least_busy backend from an empty list.'"
     ]
    }
   ],
   "source": [
    "%matplotlib widget\n",
    "clauses = [CombinatoricsClause([0], [1]), CombinatoricsClause([1], [0]), CombinatoricsClause([2], [1]), CombinatoricsClause([1], [2]),\n",
    "               CombinatoricsClause([2], [3]), CombinatoricsClause([3], [2]), CombinatoricsClause([3], [0]), CombinatoricsClause([0], [3])]\n",
    "\n",
    "qaoa = GenericQaoa(_p=2,\n",
    "                   _clauses=clauses,\n",
    "                   _qbits=range(4),\n",
    "                   _grid_size=5,\n",
    "                   _simulate=False)\n",
    "circ = qaoa.qaoa_circuit\n",
    "b = [np.pi/2, np.pi/2]\n",
    "g = [np.pi/4, np.pi/4]\n",
    "circ = circ.bind_parameters({beta_param: beta_val for beta_param, beta_val in zip(circ.betas,b)})\n",
    "circ = circ.bind_parameters({gamma_param: gamma_val for gamma_param, gamma_val in zip(circ.gammas,g)})\n",
    "print(circ.draw())\n",
    "job = execute(circ, backend=qaoa.qaoa_circuit_component.backend)"
   ]
  },
  {
   "cell_type": "code",
   "execution_count": 9,
   "outputs": [
    {
     "name": "stdout",
     "output_type": "stream",
     "text": [
      "Job Status: job is queued (12) [Est. wait time: 29 min 4 sec] "
     ]
    },
    {
     "ename": "KeyboardInterrupt",
     "evalue": "",
     "output_type": "error",
     "traceback": [
      "\u001B[0;31m---------------------------------------------------------------------------\u001B[0m",
      "\u001B[0;31mKeyboardInterrupt\u001B[0m                         Traceback (most recent call last)",
      "Input \u001B[0;32mIn [9]\u001B[0m, in \u001B[0;36m<cell line: 3>\u001B[0;34m()\u001B[0m\n\u001B[1;32m      1\u001B[0m \u001B[38;5;28;01mimport\u001B[39;00m \u001B[38;5;21;01mqiskit\u001B[39;00m\u001B[38;5;21;01m.\u001B[39;00m\u001B[38;5;21;01mproviders\u001B[39;00m\u001B[38;5;21;01m.\u001B[39;00m\u001B[38;5;21;01mibmq\u001B[39;00m\u001B[38;5;21;01m.\u001B[39;00m\u001B[38;5;21;01mjob\u001B[39;00m \u001B[38;5;28;01mas\u001B[39;00m \u001B[38;5;21;01mqjob\u001B[39;00m\n\u001B[0;32m----> 3\u001B[0m \u001B[43mqjob\u001B[49m\u001B[38;5;241;43m.\u001B[39;49m\u001B[43mjob_monitor\u001B[49m\u001B[43m(\u001B[49m\u001B[43mjob\u001B[49m\u001B[43m)\u001B[49m\n",
      "File \u001B[0;32m~/HW/generic_qaoa/.venv/lib/python3.8/site-packages/qiskit/providers/ibmq/job/job_monitor.py:113\u001B[0m, in \u001B[0;36mjob_monitor\u001B[0;34m(job, interval, output)\u001B[0m\n\u001B[1;32m    110\u001B[0m \u001B[38;5;28;01melse\u001B[39;00m:\n\u001B[1;32m    111\u001B[0m     _interval_set \u001B[38;5;241m=\u001B[39m \u001B[38;5;28;01mTrue\u001B[39;00m\n\u001B[0;32m--> 113\u001B[0m \u001B[43m_text_checker\u001B[49m\u001B[43m(\u001B[49m\u001B[43mjob\u001B[49m\u001B[43m,\u001B[49m\u001B[43m \u001B[49m\u001B[43minterval\u001B[49m\u001B[43m,\u001B[49m\u001B[43m \u001B[49m\u001B[43m_interval_set\u001B[49m\u001B[43m,\u001B[49m\n\u001B[1;32m    114\u001B[0m \u001B[43m              \u001B[49m\u001B[43moutput\u001B[49m\u001B[38;5;241;43m=\u001B[39;49m\u001B[43moutput\u001B[49m\u001B[43m)\u001B[49m\n",
      "File \u001B[0;32m~/HW/generic_qaoa/.venv/lib/python3.8/site-packages/qiskit/providers/ibmq/job/job_monitor.py:46\u001B[0m, in \u001B[0;36m_text_checker\u001B[0;34m(job, interval, _interval_set, output)\u001B[0m\n\u001B[1;32m     44\u001B[0m \u001B[38;5;28mprint\u001B[39m(\u001B[38;5;124m'\u001B[39m\u001B[38;5;130;01m\\r\u001B[39;00m\u001B[38;5;132;01m%s\u001B[39;00m\u001B[38;5;124m: \u001B[39m\u001B[38;5;132;01m%s\u001B[39;00m\u001B[38;5;124m'\u001B[39m \u001B[38;5;241m%\u001B[39m (\u001B[38;5;124m'\u001B[39m\u001B[38;5;124mJob Status\u001B[39m\u001B[38;5;124m'\u001B[39m, msg), end\u001B[38;5;241m=\u001B[39m\u001B[38;5;124m'\u001B[39m\u001B[38;5;124m'\u001B[39m, file\u001B[38;5;241m=\u001B[39moutput)\n\u001B[1;32m     45\u001B[0m \u001B[38;5;28;01mwhile\u001B[39;00m status\u001B[38;5;241m.\u001B[39mname \u001B[38;5;129;01mnot\u001B[39;00m \u001B[38;5;129;01min\u001B[39;00m [\u001B[38;5;124m'\u001B[39m\u001B[38;5;124mDONE\u001B[39m\u001B[38;5;124m'\u001B[39m, \u001B[38;5;124m'\u001B[39m\u001B[38;5;124mCANCELLED\u001B[39m\u001B[38;5;124m'\u001B[39m, \u001B[38;5;124m'\u001B[39m\u001B[38;5;124mERROR\u001B[39m\u001B[38;5;124m'\u001B[39m]:\n\u001B[0;32m---> 46\u001B[0m     \u001B[43mtime\u001B[49m\u001B[38;5;241;43m.\u001B[39;49m\u001B[43msleep\u001B[49m\u001B[43m(\u001B[49m\u001B[43minterval\u001B[49m\u001B[43m)\u001B[49m\n\u001B[1;32m     47\u001B[0m     status \u001B[38;5;241m=\u001B[39m job\u001B[38;5;241m.\u001B[39mstatus()\n\u001B[1;32m     48\u001B[0m     msg \u001B[38;5;241m=\u001B[39m status\u001B[38;5;241m.\u001B[39mvalue\n",
      "\u001B[0;31mKeyboardInterrupt\u001B[0m: "
     ]
    }
   ],
   "source": [
    "import qiskit.providers.ibmq.job as qjob\n",
    "\n",
    "qjob.job_monitor(job)"
   ],
   "metadata": {
    "collapsed": false,
    "pycharm": {
     "name": "#%%\n"
    }
   }
  },
  {
   "cell_type": "code",
   "execution_count": null,
   "outputs": [],
   "source": [
    "from qiskit import IBMQ\n",
    "\n",
    "# IBMQ.save_account(TOKEN)\n",
    "IBMQ.load_account() # Load account from disk\n",
    "p=IBMQ.providers()[0]\n",
    "print(p.backends)"
   ],
   "metadata": {
    "collapsed": false,
    "pycharm": {
     "name": "#%%\n"
    }
   }
  }
 ],
 "metadata": {
  "kernelspec": {
   "display_name": "Python 3.9.10 64-bit ('3.9.10')",
   "language": "python",
   "name": "python3"
  },
  "language_info": {
   "name": "python",
   "version": "3.9.10"
  },
  "orig_nbformat": 4,
  "vscode": {
   "interpreter": {
    "hash": "65e3f1a1d2c20a54104bd9ae1fefdda11c5e4a2338ab6cf4d527a0e17cb0af9f"
   }
  }
 },
 "nbformat": 4,
 "nbformat_minor": 2
}