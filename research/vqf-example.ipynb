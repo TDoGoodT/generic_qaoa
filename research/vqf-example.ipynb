{
 "cells": [
  {
   "cell_type": "code",
   "execution_count": null,
   "metadata": {
    "collapsed": true
   },
   "outputs": [],
   "source": [
    "from generic_qaoa.vqf_helper import factor_56153, factor_291311, create_clauses\n",
    "from generic_qaoa.clause import CombinatoricsClause, MathematicalClause\n",
    "from generic_qaoa.utils import get_pq_from_selected, plot_histogram\n",
    "from generic_qaoa import GenericQaoa\n"
   ]
  },
  {
   "cell_type": "code",
   "execution_count": null,
   "outputs": [],
   "source": [
    "m = 69169\n",
    "# 1. define clauses\n",
    "if m == 56153:\n",
    "    p_dict, q_dict, z_dict, clauses = factor_56153()\n",
    "elif m == 45313:\n",
    "    p_dict, q_dict, z_dict, clauses = create_clauses(m,true_p_int=113, true_q_int=401, verbose=True)\n",
    "elif m == 69169:\n",
    "    p_dict, q_dict, z_dict, clauses = create_clauses(m,true_p_int=263, true_q_int=263, verbose=True)\n",
    "elif m == 291311:\n",
    "    p_dict, q_dict, z_dict, clauses = factor_291311()\n",
    "else:\n",
    "    p_dict, q_dict, z_dict, clauses = create_clauses(m, verbose=True)\n",
    "\n",
    "\n",
    "free_symbols = set().union(*[clause.free_symbols for clause in clauses])\n",
    "qubit_index_to_symbol = {i: sym for i, sym in enumerate(free_symbols)}\n",
    "symbol_to_qubit_index = {sym: i for i, sym in qubit_index_to_symbol.items()}\n",
    "final_clauses = [MathematicalClause((clause * clause).expand(), symbol_to_qubit_index)for clause in clauses if clause != 0]"
   ],
   "metadata": {
    "collapsed": false,
    "pycharm": {
     "name": "#%%\n"
    }
   }
  },
  {
   "cell_type": "code",
   "execution_count": null,
   "outputs": [],
   "source": [
    "vqf = GenericQaoa(_p=3,\n",
    "                  _clauses=final_clauses,\n",
    "                  _qbits=range(len(free_symbols)),\n",
    "                  _grid_size=8,\n",
    "                  _simulate=True)\n",
    "\n",
    "vqf.run()\n",
    "plot_histogram(vqf.last_result.counts_histogram)\n",
    "p, p_dict, q, q_dict = get_pq_from_selected(p_dict, q_dict, vqf.last_result.selected, symbol_to_qubit_index)\n",
    "print(\"p,q=\", p, q)"
   ],
   "metadata": {
    "collapsed": false,
    "pycharm": {
     "name": "#%%\n"
    }
   }
  },
  {
   "cell_type": "code",
   "execution_count": null,
   "outputs": [],
   "source": [
    "if p * q != m:\n",
    "    print(\"Trying to fix with bit-flip.\")\n",
    "    for i in range(len(p_dict)):\n",
    "        for j in range(len(q_dict)):\n",
    "            new_p: int\n",
    "            if p_dict[i] == 1:\n",
    "                new_p = p - 2 ** i\n",
    "            else:\n",
    "                new_p = p + 2 ** i\n",
    "            new_q: int\n",
    "            if q_dict[j] == 1:\n",
    "                new_q = q - 2 ** j\n",
    "            else:\n",
    "                new_q = q + 2 ** j\n",
    "            if new_q == m or new_p == m:\n",
    "                break\n",
    "            if new_p * q == m:\n",
    "                p = new_p\n",
    "            elif p * new_q == m:\n",
    "                q = new_q\n",
    "            if new_p * new_q == m:\n",
    "                p = new_p\n",
    "                q = new_q\n",
    "            if p * q == m:\n",
    "                break\n",
    "        if p * q == m:\n",
    "            break\n"
   ],
   "metadata": {
    "collapsed": false,
    "pycharm": {
     "name": "#%%\n"
    }
   }
  }
 ],
 "metadata": {
  "kernelspec": {
   "display_name": "Python 3",
   "language": "python",
   "name": "python3"
  },
  "language_info": {
   "codemirror_mode": {
    "name": "ipython",
    "version": 2
   },
   "file_extension": ".py",
   "mimetype": "text/x-python",
   "name": "python",
   "nbconvert_exporter": "python",
   "pygments_lexer": "ipython2",
   "version": "2.7.6"
  }
 },
 "nbformat": 4,
 "nbformat_minor": 0
}