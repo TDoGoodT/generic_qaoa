{
 "cells": [
  {
   "cell_type": "code",
   "execution_count": 8,
   "metadata": {
    "collapsed": true
   },
   "outputs": [],
   "source": [
    "from generic_qaoa.vqf_helper import create_clauses\n",
    "from generic_qaoa.clause import MathematicalClause\n",
    "from generic_qaoa.utils import get_pq_from_selected, plot_histogram\n",
    "from generic_qaoa import GenericQaoa\n",
    "import matplotlib.pyplot as plt\n",
    "%matplotlib inline\n"
   ]
  },
  {
   "cell_type": "code",
   "execution_count": 9,
   "outputs": [
    {
     "name": "stdout",
     "output_type": "stream",
     "text": [
      "Preprocessing iteration: 0\n",
      "Current clause 1 : p_1 + q_1 - 1\n",
      "Rule 2 applied! p_1 = 1 - q_1\n",
      "Current clause 2 : p_2 + q_2 - 2*z_2_3 - 1\n",
      "Z rule 1 applied! z_2_3 = 0\n",
      "Rule 2 applied! p_2 = 1 - q_2\n",
      "Current clause 3 : p_3 - 2*q_1*q_2 + q_1 + q_2 + q_3 - 2*z_3_4 - 4*z_3_5 - 1\n",
      "Z rule 1 applied! z_3_5 = 0\n",
      "Current clause 4 : p_3*q_1 + p_4 - q_1*q_3 + q_3 + z_3_4 - 2*z_4_5 - 4*z_4_6\n",
      "Current clause 5 : p_3*q_2 + p_4*q_1 + p_5 - q_2*q_3 + q_3 + z_4_5 - 2*z_5_6 - 4*z_5_7\n",
      "Current clause 6 : p_3*q_3 + p_4*q_2 + p_5*q_1 + p_6 + z_4_6 + z_5_6 - 2*z_6_7\n",
      "Current clause 7 : p_4*q_3 + p_5*q_2 + p_6*q_1 + p_7 + z_5_7 + z_6_7 - 1\n",
      "Current clause 8 : p_5*q_3 + p_6*q_2 + p_7*q_1\n",
      "Rule 4 applied! p_5*q_3 + p_6*q_2 + p_7*q_1\n",
      "Current clause 9 : p_6*q_3 + p_7*q_2\n",
      "Rule 4 applied! p_6*q_3 + p_7*q_2\n",
      "Current clause 10 : p_7*q_3\n",
      "Rule of equality applied! p_7*q_3\n",
      "\n",
      "\n",
      "Preprocessing iteration: 1\n",
      "Current clause 3 : p_3 - 2*q_1*q_2 + q_1 + q_2 + q_3 - 2*z_3_4 - 1\n",
      "Current clause 4 : p_3*q_1 + p_4 - q_1*q_3 + q_3 + z_3_4 - 2*z_4_5 - 4*z_4_6\n",
      "Current clause 5 : p_3*q_2 + p_4*q_1 + p_5 - q_2*q_3 + q_3 + z_4_5 - 2*z_5_6 - 4*z_5_7\n",
      "Current clause 6 : p_3*q_3 + p_4*q_2 + p_5*q_1 + p_6 + z_4_6 + z_5_6 - 2*z_6_7\n",
      "Current clause 7 : p_4*q_3 + p_5*q_2 + p_6*q_1 + p_7 + z_5_7 + z_6_7 - 1\n",
      "\n",
      "\n",
      "Final clauses:\n",
      "0\n",
      "0\n",
      "0\n",
      "p_3 - 2*q_1*q_2 + q_1 + q_2 + q_3 - 2*z_3_4 - 1\n",
      "p_3*q_1 + p_4 - q_1*q_3 + q_3 + z_3_4 - 2*z_4_5 - 4*z_4_6\n",
      "p_3*q_2 + p_4*q_1 + p_5 - q_2*q_3 + q_3 + z_4_5 - 2*z_5_6 - 4*z_5_7\n",
      "p_3*q_3 + p_4*q_2 + p_5*q_1 + p_6 + z_4_6 + z_5_6 - 2*z_6_7\n",
      "p_4*q_3 + p_5*q_2 + p_6*q_1 + p_7 + z_5_7 + z_6_7 - 1\n",
      "p_5*q_3 + p_6*q_2 + p_7*q_1\n",
      "p_6*q_3 + p_7*q_2\n",
      "p_7*q_3\n"
     ]
    }
   ],
   "source": [
    "m = 143\n",
    "p_dict, q_dict, z_dict, clauses = create_clauses(m)\n",
    "free_symbols = set().union(*[clause.free_symbols for clause in clauses])\n",
    "qubit_index_to_symbol = {i: sym for i, sym in enumerate(free_symbols)}\n",
    "symbol_to_qubit_index = {sym: i for i, sym in qubit_index_to_symbol.items()}\n",
    "final_clauses = [MathematicalClause((clause * clause).expand(), symbol_to_qubit_index)for clause in clauses if clause != 0]"
   ],
   "metadata": {
    "collapsed": false,
    "pycharm": {
     "name": "#%%\n"
    }
   }
  },
  {
   "cell_type": "code",
   "execution_count": null,
   "outputs": [
    {
     "name": "stdout",
     "output_type": "stream",
     "text": [
      "running circuit on aer_simulator\n",
      "done\n",
      "running circuit on aer_simulator\n",
      "done\n"
     ]
    }
   ],
   "source": [
    "vqf = GenericQaoa(_p=4,\n",
    "                  _clauses=final_clauses,\n",
    "                  _qbits=range(len(free_symbols)),\n",
    "                  _grid_size=8,\n",
    "                  simulate=True)\n",
    "\n",
    "vqf.run()\n",
    "plot_histogram(vqf.last_result.counts_histogram)\n",
    "p, p_dict, q, q_dict = get_pq_from_selected(p_dict, q_dict, vqf.last_result.selected, symbol_to_qubit_index)\n",
    "print(\"p,q=\", p, q)"
   ],
   "metadata": {
    "collapsed": false,
    "pycharm": {
     "name": "#%%\n",
     "is_executing": true
    }
   }
  },
  {
   "cell_type": "code",
   "execution_count": null,
   "outputs": [],
   "source": [
    "if p * q != m:\n",
    "    print(\"Trying to fix with bit-flip.\")\n",
    "    for i in range(len(p_dict)):\n",
    "        for j in range(len(q_dict)):\n",
    "            new_p: int\n",
    "            if p_dict[i] == 1:\n",
    "                new_p = p - 2 ** i\n",
    "            else:\n",
    "                new_p = p + 2 ** i\n",
    "            new_q: int\n",
    "            if q_dict[j] == 1:\n",
    "                new_q = q - 2 ** j\n",
    "            else:\n",
    "                new_q = q + 2 ** j\n",
    "            if new_q == m or new_p == m:\n",
    "                break\n",
    "            if new_p * q == m:\n",
    "                p = new_p\n",
    "            elif p * new_q == m:\n",
    "                q = new_q\n",
    "            if new_p * new_q == m:\n",
    "                p = new_p\n",
    "                q = new_q\n",
    "            if p * q == m:\n",
    "                break\n",
    "        if p * q == m:\n",
    "            break\n",
    "print(p,q)"
   ],
   "metadata": {
    "collapsed": false,
    "pycharm": {
     "name": "#%%\n",
     "is_executing": true
    }
   }
  }
 ],
 "metadata": {
  "kernelspec": {
   "display_name": "Python 3",
   "language": "python",
   "name": "python3"
  },
  "language_info": {
   "codemirror_mode": {
    "name": "ipython",
    "version": 2
   },
   "file_extension": ".py",
   "mimetype": "text/x-python",
   "name": "python",
   "nbconvert_exporter": "python",
   "pygments_lexer": "ipython2",
   "version": "2.7.6"
  }
 },
 "nbformat": 4,
 "nbformat_minor": 0
}