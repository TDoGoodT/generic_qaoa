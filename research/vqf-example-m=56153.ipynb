{
 "cells": [
  {
   "cell_type": "code",
   "execution_count": 2,
   "metadata": {
    "collapsed": true
   },
   "outputs": [],
   "source": [
    "from generic_qaoa.vqf_helper import factor_56153\n",
    "from generic_qaoa.clause import MathematicalClause\n",
    "from generic_qaoa.utils import get_pq_from_selected, plot_histogram\n",
    "from generic_qaoa import GenericQaoa\n",
    "%matplotlib inline\n"
   ]
  },
  {
   "cell_type": "code",
   "execution_count": 3,
   "outputs": [],
   "source": [
    "m = 56153\n",
    "p_dict, q_dict, z_dict, clauses = factor_56153()\n",
    "free_symbols = set().union(*[clause.free_symbols for clause in clauses])\n",
    "qubit_index_to_symbol = {i: sym for i, sym in enumerate(free_symbols)}\n",
    "symbol_to_qubit_index = {sym: i for i, sym in qubit_index_to_symbol.items()}\n",
    "final_clauses = [MathematicalClause((clause * clause).expand(), symbol_to_qubit_index)for clause in clauses if clause != 0]"
   ],
   "metadata": {
    "collapsed": false,
    "pycharm": {
     "name": "#%%\n"
    }
   }
  },
  {
   "cell_type": "code",
   "execution_count": 4,
   "outputs": [
    {
     "name": "stderr",
     "output_type": "stream",
     "text": [
      "/Users/snir/HW/generic_qaoa/.venv/lib/python3.8/site-packages/numpy/linalg/linalg.py:2154: RuntimeWarning: divide by zero encountered in det\n",
      "  r = _umath_linalg.det(a, signature=signature)\n",
      "/Users/snir/HW/generic_qaoa/.venv/lib/python3.8/site-packages/numpy/linalg/linalg.py:2154: RuntimeWarning: invalid value encountered in det\n",
      "  r = _umath_linalg.det(a, signature=signature)\n"
     ]
    },
    {
     "name": "stdout",
     "output_type": "stream",
     "text": [
      "running circuit on aer_simulator\n",
      "done\n",
      "running circuit on aer_simulator\n",
      "done\n",
      "running circuit on aer_simulator\n",
      "done\n",
      "running circuit on aer_simulator\n",
      "done\n",
      "running circuit on aer_simulator\n",
      "done\n",
      "running circuit on aer_simulator\n",
      "done\n",
      "running circuit on aer_simulator\n",
      "done\n",
      "running circuit on aer_simulator\n",
      "done\n",
      "running circuit on aer_simulator\n",
      "done\n",
      "running circuit on aer_simulator\n",
      "done\n",
      "running circuit on aer_simulator\n",
      "done\n",
      "running circuit on aer_simulator\n",
      "done\n",
      "running circuit on aer_simulator\n",
      "done\n",
      "running circuit on aer_simulator\n",
      "done\n",
      "running circuit on aer_simulator\n",
      "done\n",
      "running circuit on aer_simulator\n",
      "done\n",
      "running circuit on aer_simulator\n",
      "done\n",
      "running circuit on aer_simulator\n",
      "done\n",
      "running circuit on aer_simulator\n",
      "done\n",
      "running circuit on aer_simulator\n",
      "done\n",
      "running circuit on aer_simulator\n",
      "done\n",
      "running circuit on aer_simulator\n",
      "done\n",
      "running circuit on aer_simulator\n",
      "done\n",
      "running circuit on aer_simulator\n",
      "done\n",
      "running circuit on aer_simulator\n",
      "done\n",
      "running circuit on aer_simulator\n",
      "done\n",
      "running circuit on aer_simulator\n",
      "done\n",
      "running circuit on aer_simulator\n",
      "done\n",
      "running circuit on aer_simulator\n",
      "done\n",
      "running circuit on aer_simulator\n",
      "done\n",
      "running circuit on aer_simulator\n",
      "done\n",
      "running circuit on aer_simulator\n",
      "done\n",
      "running circuit on aer_simulator\n",
      "done\n",
      "running circuit on aer_simulator\n",
      "done\n",
      "running circuit on aer_simulator\n",
      "done\n",
      "running circuit on aer_simulator\n",
      "done\n",
      "running circuit on aer_simulator\n",
      "done\n",
      "running circuit on aer_simulator\n",
      "done\n",
      "running circuit on aer_simulator\n",
      "done\n",
      "running circuit on aer_simulator\n",
      "done\n",
      "running circuit on aer_simulator\n",
      "done\n",
      "running circuit on aer_simulator\n",
      "done\n",
      "p,q= 233 241\n"
     ]
    }
   ],
   "source": [
    "vqf = GenericQaoa(_p=3,\n",
    "                  _clauses=final_clauses,\n",
    "                  _qbits=range(len(free_symbols)),\n",
    "                  _grid_size=8,\n",
    "                  simulate=True)\n",
    "\n",
    "vqf.run()\n",
    "plot_histogram(vqf.last_result.counts_histogram)\n",
    "p, p_dict, q, q_dict = get_pq_from_selected(p_dict, q_dict, vqf.last_result.selected, symbol_to_qubit_index)\n",
    "print(\"p,q=\", p, q)"
   ],
   "metadata": {
    "collapsed": false,
    "pycharm": {
     "name": "#%%\n"
    }
   }
  },
  {
   "cell_type": "code",
   "execution_count": 5,
   "outputs": [
    {
     "name": "stdout",
     "output_type": "stream",
     "text": [
      "233 241\n"
     ]
    }
   ],
   "source": [
    "if p * q != m:\n",
    "    print(\"Trying to fix with bit-flip.\")\n",
    "    for i in range(len(p_dict)):\n",
    "        for j in range(len(q_dict)):\n",
    "            new_p: int\n",
    "            if p_dict[i] == 1:\n",
    "                new_p = p - 2 ** i\n",
    "            else:\n",
    "                new_p = p + 2 ** i\n",
    "            new_q: int\n",
    "            if q_dict[j] == 1:\n",
    "                new_q = q - 2 ** j\n",
    "            else:\n",
    "                new_q = q + 2 ** j\n",
    "            if new_q == m or new_p == m:\n",
    "                break\n",
    "            if new_p * q == m:\n",
    "                p = new_p\n",
    "            elif p * new_q == m:\n",
    "                q = new_q\n",
    "            if new_p * new_q == m:\n",
    "                p = new_p\n",
    "                q = new_q\n",
    "            if p * q == m:\n",
    "                break\n",
    "        if p * q == m:\n",
    "            break\n",
    "print(p,q)"
   ],
   "metadata": {
    "collapsed": false,
    "pycharm": {
     "name": "#%%\n"
    }
   }
  }
 ],
 "metadata": {
  "kernelspec": {
   "display_name": "Python 3",
   "language": "python",
   "name": "python3"
  },
  "language_info": {
   "codemirror_mode": {
    "name": "ipython",
    "version": 2
   },
   "file_extension": ".py",
   "mimetype": "text/x-python",
   "name": "python",
   "nbconvert_exporter": "python",
   "pygments_lexer": "ipython2",
   "version": "2.7.6"
  }
 },
 "nbformat": 4,
 "nbformat_minor": 0
}