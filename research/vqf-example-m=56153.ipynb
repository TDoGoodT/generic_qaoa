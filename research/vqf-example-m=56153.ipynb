{
 "cells": [
  {
   "cell_type": "code",
   "execution_count": 3,
   "metadata": {
    "collapsed": true
   },
   "outputs": [],
   "source": [
    "from generic_qaoa.vqf_helper import create_clauses\n",
    "from generic_qaoa.clause import MathematicalClause\n",
    "from generic_qaoa.utils import get_pq_from_selected, plot_histogram\n",
    "from generic_qaoa import GenericQaoa\n"
   ]
  },
  {
   "cell_type": "code",
   "execution_count": 4,
   "outputs": [
    {
     "name": "stdout",
     "output_type": "stream",
     "text": [
      "Preprocessing iteration: 0\n",
      "Current clause 1 : p_1 + q_1 - 2*z_1_2\n",
      "Z rule 2 applied: {p_1: q_1, z_1_2: q_1}\n",
      "Current clause 2 : p_2 + 2*q_1 + q_2 - 2*z_2_3 - 4*z_2_4\n",
      "Z rule 2 applied: {p_2: q_2}\n",
      "Current clause 3 : p_3 + 2*q_1*q_2 + q_3 + z_2_3 - 2*z_3_4 - 4*z_3_5 - 1\n",
      "Current clause 4 : p_3*q_1 + p_4 + q_1*q_3 + q_2 + q_4 + z_2_4 + z_3_4 - 2*z_4_5 - 4*z_4_6 - 1\n",
      "Current clause 5 : p_3*q_2 + p_4*q_1 + p_5 + q_1*q_4 + q_2*q_3 + q_5 + z_3_5 + z_4_5 - 2*z_5_6 - 4*z_5_7 - 8*z_5_8\n",
      "Current clause 6 : p_3*q_3 + p_4*q_2 + p_5*q_1 + p_6 + q_1*q_5 + q_2*q_4 + q_6 + z_4_6 + z_5_6 - 2*z_6_7 - 4*z_6_8 - 8*z_6_9 - 1\n",
      "Current clause 7 : p_3*q_4 + p_4*q_3 + p_5*q_2 + p_6*q_1 + q_1*q_6 + q_2*q_5 + z_5_7 + z_6_7 - 8*z_7_10 - 2*z_7_8 - 4*z_7_9 + 2\n",
      "Current clause 8 : p_3*q_5 + p_4*q_4 + p_5*q_3 + p_6*q_2 + 2*q_1 + q_2*q_6 + z_5_8 + z_6_8 + z_7_8 - 4*z_8_10 - 8*z_8_11 - 2*z_8_9 - 1\n",
      "Current clause 9 : p_3*q_6 + p_4*q_5 + p_5*q_4 + p_6*q_3 + 2*q_2 + z_6_9 + z_7_9 + z_8_9 - 2*z_9_10 - 4*z_9_11 - 8*z_9_12 - 1\n",
      "Current clause 10 : p_3 + p_4*q_6 + p_5*q_5 + p_6*q_4 + q_3 - 2*z_10_11 - 4*z_10_12 - 8*z_10_13 + z_7_10 + z_8_10 + z_9_10\n",
      "Current clause 11 : p_4 + p_5*q_6 + p_6*q_5 + q_4 + z_10_11 - 2*z_11_12 - 4*z_11_13 + z_8_11 + z_9_11 - 1\n",
      "Current clause 12 : p_5 + p_6*q_6 + q_5 + z_10_12 + z_11_12 - 2*z_12_13 - 4*z_12_14 + z_9_12 - 1\n",
      "Current clause 13 : p_6 + q_6 + z_10_13 + z_11_13 + z_12_13 - 2*z_13_14 - 4*z_13_15\n",
      "Current clause 14 : z_12_14 + z_13_14 - 2*z_14_15\n",
      "Z rule 2 applied: {z_12_14: z_13_14, z_14_15: z_13_14}\n",
      "Current clause 15 : z_13_14 + z_13_15 - 1\n",
      "Rule 2 applied! z_13_14 = 1 - z_13_15\n",
      "\n",
      "\n",
      "Preprocessing iteration: 1\n",
      "Current clause 2 : q_1 + q_2 - z_2_3 - 2*z_2_4\n",
      "Current clause 3 : p_3 + 2*q_1*q_2 + q_3 + z_2_3 - 2*z_3_4 - 4*z_3_5 - 1\n",
      "Current clause 4 : p_3*q_1 + p_4 + q_1*q_3 + q_2 + q_4 + z_2_4 + z_3_4 - 2*z_4_5 - 4*z_4_6 - 1\n",
      "Current clause 5 : p_3*q_2 + p_4*q_1 + p_5 + q_1*q_4 + q_2*q_3 + q_5 + z_3_5 + z_4_5 - 2*z_5_6 - 4*z_5_7 - 8*z_5_8\n",
      "Current clause 6 : p_3*q_3 + p_4*q_2 + p_5*q_1 + p_6 + q_1*q_5 + q_2*q_4 + q_6 + z_4_6 + z_5_6 - 2*z_6_7 - 4*z_6_8 - 8*z_6_9 - 1\n",
      "Current clause 7 : p_3*q_4 + p_4*q_3 + p_5*q_2 + p_6*q_1 + q_1*q_6 + q_2*q_5 + z_5_7 + z_6_7 - 8*z_7_10 - 2*z_7_8 - 4*z_7_9 + 2\n",
      "Current clause 8 : p_3*q_5 + p_4*q_4 + p_5*q_3 + p_6*q_2 + 2*q_1 + q_2*q_6 + z_5_8 + z_6_8 + z_7_8 - 4*z_8_10 - 8*z_8_11 - 2*z_8_9 - 1\n",
      "Current clause 9 : p_3*q_6 + p_4*q_5 + p_5*q_4 + p_6*q_3 + 2*q_2 + z_6_9 + z_7_9 + z_8_9 - 2*z_9_10 - 4*z_9_11 - 8*z_9_12 - 1\n",
      "Current clause 10 : p_3 + p_4*q_6 + p_5*q_5 + p_6*q_4 + q_3 - 2*z_10_11 - 4*z_10_12 - 8*z_10_13 + z_7_10 + z_8_10 + z_9_10\n",
      "Current clause 11 : p_4 + p_5*q_6 + p_6*q_5 + q_4 + z_10_11 - 2*z_11_12 - 4*z_11_13 + z_8_11 + z_9_11 - 1\n",
      "Current clause 12 : p_5 + p_6*q_6 + q_5 + z_10_12 + z_11_12 - 2*z_12_13 - 4*z_13_14 + z_9_12 - 1\n",
      "Current clause 13 : p_6 + q_6 + z_10_13 + z_11_13 + z_12_13 + 2*z_13_14 - 4\n",
      "\n",
      "\n",
      "Final clauses:\n",
      "0\n",
      "0\n",
      "q_1 + q_2 - z_2_3 - 2*z_2_4\n",
      "p_3 + 2*q_1*q_2 + q_3 + z_2_3 - 2*z_3_4 - 4*z_3_5 - 1\n",
      "p_3*q_1 + p_4 + q_1*q_3 + q_2 + q_4 + z_2_4 + z_3_4 - 2*z_4_5 - 4*z_4_6 - 1\n",
      "p_3*q_2 + p_4*q_1 + p_5 + q_1*q_4 + q_2*q_3 + q_5 + z_3_5 + z_4_5 - 2*z_5_6 - 4*z_5_7 - 8*z_5_8\n",
      "p_3*q_3 + p_4*q_2 + p_5*q_1 + p_6 + q_1*q_5 + q_2*q_4 + q_6 + z_4_6 + z_5_6 - 2*z_6_7 - 4*z_6_8 - 8*z_6_9 - 1\n",
      "p_3*q_4 + p_4*q_3 + p_5*q_2 + p_6*q_1 + q_1*q_6 + q_2*q_5 + z_5_7 + z_6_7 - 8*z_7_10 - 2*z_7_8 - 4*z_7_9 + 2\n",
      "p_3*q_5 + p_4*q_4 + p_5*q_3 + p_6*q_2 + 2*q_1 + q_2*q_6 + z_5_8 + z_6_8 + z_7_8 - 4*z_8_10 - 8*z_8_11 - 2*z_8_9 - 1\n",
      "p_3*q_6 + p_4*q_5 + p_5*q_4 + p_6*q_3 + 2*q_2 + z_6_9 + z_7_9 + z_8_9 - 2*z_9_10 - 4*z_9_11 - 8*z_9_12 - 1\n",
      "p_3 + p_4*q_6 + p_5*q_5 + p_6*q_4 + q_3 - 2*z_10_11 - 4*z_10_12 - 8*z_10_13 + z_7_10 + z_8_10 + z_9_10\n",
      "p_4 + p_5*q_6 + p_6*q_5 + q_4 + z_10_11 - 2*z_11_12 - 4*z_11_13 + z_8_11 + z_9_11 - 1\n",
      "p_5 + p_6*q_6 + q_5 + z_10_12 + z_11_12 - 2*z_12_13 - 4*z_13_14 + z_9_12 - 1\n",
      "p_6 + q_6 + z_10_13 + z_11_13 + z_12_13 + 2*z_13_14 - 4\n",
      "0\n",
      "0\n",
      "0\n",
      "0\n",
      "0\n",
      "0\n",
      "0\n",
      "0\n",
      "0\n"
     ]
    }
   ],
   "source": [
    "m = 56153\n",
    "p_dict, q_dict, z_dict, clauses = create_clauses(m,true_p_int=233, true_q_int=241, verbose=True)\n",
    "free_symbols = set().union(*[clause.free_symbols for clause in clauses])\n",
    "qubit_index_to_symbol = {i: sym for i, sym in enumerate(free_symbols)}\n",
    "symbol_to_qubit_index = {sym: i for i, sym in qubit_index_to_symbol.items()}\n",
    "final_clauses = [MathematicalClause((clause * clause).expand(), symbol_to_qubit_index)for clause in clauses if clause != 0]"
   ],
   "metadata": {
    "collapsed": false,
    "pycharm": {
     "name": "#%%\n"
    }
   }
  },
  {
   "cell_type": "code",
   "execution_count": null,
   "outputs": [
    {
     "name": "stderr",
     "output_type": "stream",
     "text": [
      "/Users/snir/HW/generic_qaoa/.venv/lib/python3.8/site-packages/numpy/linalg/linalg.py:2154: RuntimeWarning: divide by zero encountered in det\n",
      "  r = _umath_linalg.det(a, signature=signature)\n",
      "/Users/snir/HW/generic_qaoa/.venv/lib/python3.8/site-packages/numpy/linalg/linalg.py:2154: RuntimeWarning: invalid value encountered in det\n",
      "  r = _umath_linalg.det(a, signature=signature)\n"
     ]
    },
    {
     "name": "stdout",
     "output_type": "stream",
     "text": [
      "running circuit on aer_simulator\n"
     ]
    }
   ],
   "source": [
    "vqf = GenericQaoa(_p=3,\n",
    "                  _clauses=final_clauses,\n",
    "                  _qbits=range(len(free_symbols)),\n",
    "                  _grid_size=8,\n",
    "                  simulate=True)\n",
    "\n",
    "vqf.run()\n",
    "plot_histogram(vqf.last_result.counts_histogram)\n",
    "p, p_dict, q, q_dict = get_pq_from_selected(p_dict, q_dict, vqf.last_result.selected, symbol_to_qubit_index)\n",
    "print(\"p,q=\", p, q)"
   ],
   "metadata": {
    "collapsed": false,
    "pycharm": {
     "name": "#%%\n",
     "is_executing": true
    }
   }
  },
  {
   "cell_type": "code",
   "execution_count": null,
   "outputs": [],
   "source": [
    "if p * q != m:\n",
    "    print(\"Trying to fix with bit-flip.\")\n",
    "    for i in range(len(p_dict)):\n",
    "        for j in range(len(q_dict)):\n",
    "            new_p: int\n",
    "            if p_dict[i] == 1:\n",
    "                new_p = p - 2 ** i\n",
    "            else:\n",
    "                new_p = p + 2 ** i\n",
    "            new_q: int\n",
    "            if q_dict[j] == 1:\n",
    "                new_q = q - 2 ** j\n",
    "            else:\n",
    "                new_q = q + 2 ** j\n",
    "            if new_q == m or new_p == m:\n",
    "                break\n",
    "            if new_p * q == m:\n",
    "                p = new_p\n",
    "            elif p * new_q == m:\n",
    "                q = new_q\n",
    "            if new_p * new_q == m:\n",
    "                p = new_p\n",
    "                q = new_q\n",
    "            if p * q == m:\n",
    "                break\n",
    "        if p * q == m:\n",
    "            break\n",
    "print(p,q)"
   ],
   "metadata": {
    "collapsed": false,
    "pycharm": {
     "name": "#%%\n",
     "is_executing": true
    }
   }
  }
 ],
 "metadata": {
  "kernelspec": {
   "display_name": "Python 3",
   "language": "python",
   "name": "python3"
  },
  "language_info": {
   "codemirror_mode": {
    "name": "ipython",
    "version": 2
   },
   "file_extension": ".py",
   "mimetype": "text/x-python",
   "name": "python",
   "nbconvert_exporter": "python",
   "pygments_lexer": "ipython2",
   "version": "2.7.6"
  }
 },
 "nbformat": 4,
 "nbformat_minor": 0
}